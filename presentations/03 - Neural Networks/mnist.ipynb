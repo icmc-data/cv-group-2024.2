{
  "cells": [
    {
      "cell_type": "markdown",
      "metadata": {
        "id": "SUa0f0Y_xlIj"
      },
      "source": [
        "# MNIST Dataset com MLP\n",
        "\n",
        "O dataset MNIST (Modified National Institute of Standards and Technology) é amplamente utilizado no campo de machine learning e visão computacional para o treinamento e teste de modelos de reconhecimento de padrões, especialmente redes neurais. Ele consiste em 70.000 imagens em escala de cinza de dígitos manuscritos (0 a 9), sendo 60.000 para treinamento e 10.000 para teste. Cada imagem tem uma resolução de 28x28 pixels, onde cada pixel possui um valor de intensidade variando de 0 (preto) a 255 (branco)."
      ]
    },
    {
      "cell_type": "markdown",
      "source": [
        "## Importe de Bibliotecas e Dowload do Dataset"
      ],
      "metadata": {
        "id": "kuhWg5D90amR"
      }
    },
    {
      "cell_type": "code",
      "execution_count": 1,
      "metadata": {
        "id": "dF28F7XMxlIm"
      },
      "outputs": [],
      "source": [
        "import torch\n",
        "import torchvision\n",
        "import torchvision.models as models # Possibilita o save e load dos modelos\n",
        "import torch.nn.functional as F # Dá acesso às funções de ativação e de perda\n",
        "import torch.optim as optim # Dá acesso a diversos otimizadores\n",
        "import torch.nn as nn # Possiblita criar a rede neural\n",
        "from torchvision.transforms import ToTensor\n",
        "from torch.utils.data import DataLoader\n",
        "from torchvision import datasets\n",
        "\n",
        "import numpy as np\n",
        "import matplotlib.pyplot as plt"
      ]
    },
    {
      "cell_type": "markdown",
      "source": [
        "Outra possibilidade de dataset é o Fashion MNIST. Neste caso, temos imagens 28x28 pixels em escala de cinza acerca de 10 categorias relacionadas a roupas, como camiseta, calça e tênis."
      ],
      "metadata": {
        "id": "00z5uMNEsj13"
      }
    },
    {
      "cell_type": "code",
      "execution_count": 2,
      "metadata": {
        "id": "J5gADKP_xlIt",
        "colab": {
          "base_uri": "https://localhost:8080/"
        },
        "outputId": "ff05e233-0e19-4700-aa1e-61489046cc02"
      },
      "outputs": [
        {
          "output_type": "stream",
          "name": "stdout",
          "text": [
            "Downloading http://yann.lecun.com/exdb/mnist/train-images-idx3-ubyte.gz\n",
            "Failed to download (trying next):\n",
            "HTTP Error 403: Forbidden\n",
            "\n",
            "Downloading https://ossci-datasets.s3.amazonaws.com/mnist/train-images-idx3-ubyte.gz\n",
            "Downloading https://ossci-datasets.s3.amazonaws.com/mnist/train-images-idx3-ubyte.gz to data/MNIST/raw/train-images-idx3-ubyte.gz\n"
          ]
        },
        {
          "output_type": "stream",
          "name": "stderr",
          "text": [
            "100%|██████████| 9912422/9912422 [00:00<00:00, 17614102.58it/s]\n"
          ]
        },
        {
          "output_type": "stream",
          "name": "stdout",
          "text": [
            "Extracting data/MNIST/raw/train-images-idx3-ubyte.gz to data/MNIST/raw\n",
            "\n",
            "Downloading http://yann.lecun.com/exdb/mnist/train-labels-idx1-ubyte.gz\n",
            "Failed to download (trying next):\n",
            "HTTP Error 403: Forbidden\n",
            "\n",
            "Downloading https://ossci-datasets.s3.amazonaws.com/mnist/train-labels-idx1-ubyte.gz\n",
            "Downloading https://ossci-datasets.s3.amazonaws.com/mnist/train-labels-idx1-ubyte.gz to data/MNIST/raw/train-labels-idx1-ubyte.gz\n"
          ]
        },
        {
          "output_type": "stream",
          "name": "stderr",
          "text": [
            "100%|██████████| 28881/28881 [00:00<00:00, 476014.50it/s]\n"
          ]
        },
        {
          "output_type": "stream",
          "name": "stdout",
          "text": [
            "Extracting data/MNIST/raw/train-labels-idx1-ubyte.gz to data/MNIST/raw\n",
            "\n",
            "Downloading http://yann.lecun.com/exdb/mnist/t10k-images-idx3-ubyte.gz\n",
            "Failed to download (trying next):\n",
            "HTTP Error 403: Forbidden\n",
            "\n",
            "Downloading https://ossci-datasets.s3.amazonaws.com/mnist/t10k-images-idx3-ubyte.gz\n",
            "Downloading https://ossci-datasets.s3.amazonaws.com/mnist/t10k-images-idx3-ubyte.gz to data/MNIST/raw/t10k-images-idx3-ubyte.gz\n"
          ]
        },
        {
          "output_type": "stream",
          "name": "stderr",
          "text": [
            "100%|██████████| 1648877/1648877 [00:00<00:00, 4434304.07it/s]\n"
          ]
        },
        {
          "output_type": "stream",
          "name": "stdout",
          "text": [
            "Extracting data/MNIST/raw/t10k-images-idx3-ubyte.gz to data/MNIST/raw\n",
            "\n",
            "Downloading http://yann.lecun.com/exdb/mnist/t10k-labels-idx1-ubyte.gz\n",
            "Failed to download (trying next):\n",
            "HTTP Error 403: Forbidden\n",
            "\n",
            "Downloading https://ossci-datasets.s3.amazonaws.com/mnist/t10k-labels-idx1-ubyte.gz\n",
            "Downloading https://ossci-datasets.s3.amazonaws.com/mnist/t10k-labels-idx1-ubyte.gz to data/MNIST/raw/t10k-labels-idx1-ubyte.gz\n"
          ]
        },
        {
          "output_type": "stream",
          "name": "stderr",
          "text": [
            "100%|██████████| 4542/4542 [00:00<00:00, 2939896.41it/s]"
          ]
        },
        {
          "output_type": "stream",
          "name": "stdout",
          "text": [
            "Extracting data/MNIST/raw/t10k-labels-idx1-ubyte.gz to data/MNIST/raw\n",
            "\n"
          ]
        },
        {
          "output_type": "stream",
          "name": "stderr",
          "text": [
            "\n"
          ]
        }
      ],
      "source": [
        "train_data = datasets.MNIST(\n",
        "    root = 'data',\n",
        "    train = True,\n",
        "    transform = ToTensor(),\n",
        "    download = True\n",
        ")\n",
        "\n",
        "test_data = datasets.MNIST(\n",
        "    root = 'data',\n",
        "    train = False,\n",
        "    transform = ToTensor(),\n",
        "    download = True\n",
        ")"
      ]
    },
    {
      "cell_type": "code",
      "execution_count": null,
      "metadata": {
        "colab": {
          "base_uri": "https://localhost:8080/"
        },
        "id": "u1qQqq0VxlIv",
        "outputId": "41e73ba0-31fd-4ed0-afef-f72d43e20878"
      },
      "outputs": [
        {
          "output_type": "execute_result",
          "data": {
            "text/plain": [
              "Dataset MNIST\n",
              "    Number of datapoints: 60000\n",
              "    Root location: data\n",
              "    Split: Train\n",
              "    StandardTransform\n",
              "Transform: ToTensor()"
            ]
          },
          "metadata": {},
          "execution_count": 3
        }
      ],
      "source": [
        "train_data"
      ]
    },
    {
      "cell_type": "code",
      "execution_count": null,
      "metadata": {
        "colab": {
          "base_uri": "https://localhost:8080/"
        },
        "id": "5dshP-SyxlIx",
        "outputId": "912ec22f-6c75-43aa-d445-ac60c40723df"
      },
      "outputs": [
        {
          "output_type": "execute_result",
          "data": {
            "text/plain": [
              "Dataset MNIST\n",
              "    Number of datapoints: 10000\n",
              "    Root location: data\n",
              "    Split: Test\n",
              "    StandardTransform\n",
              "Transform: ToTensor()"
            ]
          },
          "metadata": {},
          "execution_count": 4
        }
      ],
      "source": [
        "test_data"
      ]
    },
    {
      "cell_type": "markdown",
      "source": [
        "## Criação dos Dataloaders e Visualização dos Dados"
      ],
      "metadata": {
        "id": "aXwPfnyZ0qMn"
      }
    },
    {
      "cell_type": "code",
      "execution_count": 3,
      "metadata": {
        "id": "WGXStyH4xlIy"
      },
      "outputs": [],
      "source": [
        "# batch_size: tamanho de cada lote\n",
        "# shuffle: embaralhamento do dataset após cada época de treinamento (ajuda a evitar overfitting)\n",
        "\n",
        "train_dataloader = DataLoader(train_data, batch_size=64, shuffle=True)\n",
        "test_dataloader = DataLoader(test_data, batch_size=64, shuffle=True)"
      ]
    },
    {
      "cell_type": "code",
      "source": [
        "for (data, target) in train_dataloader:\n",
        "    print('data:', data.size(), 'type:', data.type())\n",
        "    print('target:', target.size(), 'type:', target.type())\n",
        "    break\n",
        "\n",
        "pltsize=1\n",
        "plt.figure(figsize=(10*pltsize, pltsize))\n",
        "\n",
        "for i in range(10):\n",
        "    plt.subplot(1,10,i+1)\n",
        "    plt.axis('off')\n",
        "    plt.imshow(data[i,:,:,:].numpy().reshape(28,28), cmap=\"gray_r\")\n",
        "    plt.title('Classe: '+str(target[i].item()))"
      ],
      "metadata": {
        "colab": {
          "base_uri": "https://localhost:8080/",
          "height": 160
        },
        "id": "jsKeAl0KXmlo",
        "outputId": "d3343622-e2e2-4d47-d1f9-170e742107d3"
      },
      "execution_count": null,
      "outputs": [
        {
          "output_type": "stream",
          "name": "stdout",
          "text": [
            "data: torch.Size([64, 1, 28, 28]) type: torch.FloatTensor\n",
            "target: torch.Size([64]) type: torch.LongTensor\n"
          ]
        },
        {
          "output_type": "display_data",
          "data": {
            "text/plain": [
              "<Figure size 1000x100 with 10 Axes>"
            ],
            "image/png": "[encoded data removed]"
          },
          "metadata": {}
        }
      ]
    },
    {
      "cell_type": "markdown",
      "source": [
        "## Criação da Rede"
      ],
      "metadata": {
        "id": "cNNeXCf30xgz"
      }
    },
    {
      "cell_type": "markdown",
      "source": [
        "Outras funções de ativação comuns:\n",
        "\n",
        "\n",
        "*   nn.Sigmoid()\n",
        "*   nn.Softplus()\n",
        "*   nn.Tanh()\n",
        "\n"
      ],
      "metadata": {
        "id": "jMTEqQVyLZ2c"
      }
    },
    {
      "cell_type": "code",
      "execution_count": 4,
      "metadata": {
        "id": "htuVjh9XxlIz"
      },
      "outputs": [],
      "source": [
        "# Criação de uma classe derivada de nn.Module\n",
        "class NetWork(nn.Module):\n",
        "    def __init__(self):\n",
        "        super().__init__()\n",
        "\n",
        "        # Definição das camadas da rede\n",
        "        # nn.Flatten() converte a matriz da imagem para um vetor unidimensional\n",
        "        self.layers = nn.Sequential(\n",
        "            nn.Flatten(),\n",
        "            nn.Linear(28*28, 100),\n",
        "            nn.ReLU(),\n",
        "            nn.Linear(100, 50),\n",
        "            nn.ReLU(),\n",
        "            nn.Linear(50, 10)\n",
        "        )\n",
        "\n",
        "    # Definição da propagação dos inputs x pels rede\n",
        "    def forward(self, x):\n",
        "        return self.layers(x)"
      ]
    },
    {
      "cell_type": "markdown",
      "source": [
        "Cross Entropy:\n",
        "  Dadas as saídas da última camada da rede, podemos utilizar algumas estratégias para melhorar a interpretabilidade dos dados. Dentre elas, está a aplicação da função de ativção softmax, conforme segue:\n",
        "\n",
        "  ![imagem.webp](data:image/webp;base64,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)\n",
        "\n",
        "  Com isso, podemos aplicar a função CrossEntropy aos novos valores:\n",
        "\n",
        "  $$\n",
        "  CE(p_i) = -\\sum_{i = 1}^{n} P(i) \\cdot log(p(i))\n",
        "  $$"
      ],
      "metadata": {
        "id": "QaEbP3hROKFX"
      }
    },
    {
      "cell_type": "code",
      "execution_count": 5,
      "metadata": {
        "colab": {
          "base_uri": "https://localhost:8080/"
        },
        "id": "baW0pY_hxlI1",
        "outputId": "de112431-925f-447f-ed47-78621676414f"
      },
      "outputs": [
        {
          "output_type": "stream",
          "name": "stdout",
          "text": [
            "Rodando na cuda\n",
            "NetWork(\n",
            "  (layers): Sequential(\n",
            "    (0): Flatten(start_dim=1, end_dim=-1)\n",
            "    (1): Linear(in_features=784, out_features=100, bias=True)\n",
            "    (2): ReLU()\n",
            "    (3): Linear(in_features=100, out_features=50, bias=True)\n",
            "    (4): ReLU()\n",
            "    (5): Linear(in_features=50, out_features=10, bias=True)\n",
            "  )\n",
            ")\n"
          ]
        }
      ],
      "source": [
        "# Verifica se é possível alocar uma GPU. Senão, aloca uma CPU\n",
        "device = \"cuda\" if torch.cuda.is_available() else \"cpu\"\n",
        "print(f\"Rodando na {device}\")\n",
        "\n",
        "# Instancia o modelo e transfere para device\n",
        "model = NetWork().to(device)\n",
        "print(model)\n",
        "\n",
        "# Função de perda\n",
        "loss_function = nn.CrossEntropyLoss()\n",
        "\n",
        "# Otimizador (lr -> taxa de aprendizado)\n",
        "optimizer = optim.SGD(model.parameters(), lr = 0.001)"
      ]
    },
    {
      "cell_type": "markdown",
      "source": [
        "## Treinamento do Modelo"
      ],
      "metadata": {
        "id": "SeIKWdmC4Go1"
      }
    },
    {
      "cell_type": "code",
      "execution_count": 6,
      "metadata": {
        "id": "qVK8RqdfxlI2"
      },
      "outputs": [],
      "source": [
        "# Calcula a quantidade de predições acertadas\n",
        "def correct(output, target):\n",
        "    # Obtém o output de maior valor (predição)\n",
        "    predicted_digits = output.argmax(1)\n",
        "    correct_ones = (predicted_digits == target).type(torch.float)\n",
        "    return correct_ones.sum().item()"
      ]
    },
    {
      "cell_type": "code",
      "execution_count": 7,
      "metadata": {
        "id": "R4Otf7EqxlI3"
      },
      "outputs": [],
      "source": [
        "# Define o treinamento do modelo\n",
        "def train(model, dataloader, lossfunc, optimizer):\n",
        "    model.train()\n",
        "\n",
        "    # Total de batches\n",
        "    num_batches = len(dataloader)\n",
        "\n",
        "    # Total de amostras no dataset\n",
        "    num_items = len(dataloader.dataset)\n",
        "\n",
        "    # Perda e precisão acumuladas\n",
        "    cum_loss = 0.0\n",
        "    cum_correct = 0.0\n",
        "\n",
        "    for data, target in dataloader:\n",
        "        data = data.to(device)\n",
        "        target = target.to(device)\n",
        "\n",
        "        # Obtém as saídas da última camada\n",
        "        output = model(data)\n",
        "\n",
        "        # Calcula a perda\n",
        "        loss = lossfunc(output, target)\n",
        "\n",
        "        cum_loss += loss\n",
        "        cum_correct += correct(output, target)\n",
        "\n",
        "        # Calcula as derivadas pelo backpropagation\n",
        "        loss.backward()\n",
        "\n",
        "        # Atualiza os pesos\n",
        "        optimizer.step()\n",
        "\n",
        "        # Zera as derivadas\n",
        "        optimizer.zero_grad()\n",
        "\n",
        "    train_loss = cum_loss/num_batches\n",
        "    accuracy = cum_correct/num_items\n",
        "    print(f\"Perda Média: {train_loss:7f}, precisão: {accuracy:.2%}\")"
      ]
    },
    {
      "cell_type": "code",
      "execution_count": 10,
      "metadata": {
        "colab": {
          "base_uri": "https://localhost:8080/"
        },
        "id": "GGqlZqHLxlI4",
        "outputId": "46ff7cfb-23ec-403c-98dd-ccc32147920f"
      },
      "outputs": [
        {
          "output_type": "stream",
          "name": "stdout",
          "text": [
            "Training epoch: 1\n",
            "Perda Média: 2.295493, precisão: 11.37%\n",
            "Training epoch: 2\n",
            "Perda Média: 2.271132, precisão: 17.08%\n",
            "Training epoch: 3\n",
            "Perda Média: 2.234533, precisão: 27.66%\n",
            "Training epoch: 4\n",
            "Perda Média: 2.175642, precisão: 41.95%\n",
            "Training epoch: 5\n",
            "Perda Média: 2.081007, precisão: 55.04%\n",
            "Training epoch: 6\n",
            "Perda Média: 1.934949, precisão: 60.33%\n",
            "Training epoch: 7\n",
            "Perda Média: 1.728839, precisão: 63.64%\n",
            "Training epoch: 8\n",
            "Perda Média: 1.476353, precisão: 67.54%\n",
            "Training epoch: 9\n",
            "Perda Média: 1.221209, precisão: 72.22%\n",
            "Training epoch: 10\n",
            "Perda Média: 1.015930, precisão: 76.28%\n",
            "Training epoch: 11\n",
            "Perda Média: 0.870649, precisão: 78.96%\n",
            "Training epoch: 12\n",
            "Perda Média: 0.768918, precisão: 80.85%\n",
            "Training epoch: 13\n",
            "Perda Média: 0.694444, precisão: 82.17%\n",
            "Training epoch: 14\n",
            "Perda Média: 0.637888, precisão: 83.35%\n",
            "Training epoch: 15\n",
            "Perda Média: 0.593346, precisão: 84.36%\n",
            "CPU times: user 1min 55s, sys: 721 ms, total: 1min 56s\n",
            "Wall time: 1min 57s\n"
          ]
        }
      ],
      "source": [
        "%%time\n",
        "\n",
        "epochs = 15\n",
        "for epoch in range(epochs):\n",
        "    print(f\"Training epoch: {epoch+1}\")\n",
        "    train(model, train_dataloader, loss_function, optimizer)"
      ]
    },
    {
      "cell_type": "markdown",
      "source": [
        "## Teste do Modelo"
      ],
      "metadata": {
        "id": "rBCZ7nmV4Kc7"
      }
    },
    {
      "cell_type": "code",
      "execution_count": 11,
      "metadata": {
        "id": "rW47f5ALxlI5"
      },
      "outputs": [],
      "source": [
        "# Define o treinamento do modelo\n",
        "def test(model, dataloader, lossfunc):\n",
        "    model.eval()\n",
        "\n",
        "    num_batches = len(dataloader)\n",
        "    num_items = len(dataloader.dataset)\n",
        "\n",
        "    cum_loss = 0.0\n",
        "    cum_correct = 0.0\n",
        "\n",
        "    # Desabilita o cálculo do gradiente\n",
        "    with torch.no_grad():\n",
        "        for data, target in dataloader:\n",
        "            data = data.to(device)\n",
        "            target = target.to(device)\n",
        "\n",
        "            output = model(data)\n",
        "\n",
        "            loss = lossfunc(output, target)\n",
        "\n",
        "            cum_loss += loss\n",
        "            cum_correct += correct(output, target)\n",
        "\n",
        "    train_loss = cum_loss/num_batches\n",
        "    accuracy = cum_correct/num_items\n",
        "    print(f\"Perda Média: {train_loss:7f}, precisão: {accuracy:.2%}\")"
      ]
    },
    {
      "cell_type": "code",
      "execution_count": 12,
      "metadata": {
        "colab": {
          "base_uri": "https://localhost:8080/"
        },
        "id": "iXexFf5WxlI5",
        "outputId": "beed6574-0cee-4064-f1c9-96c6a5347b1d"
      },
      "outputs": [
        {
          "output_type": "stream",
          "name": "stdout",
          "text": [
            "Perda Média: 0.555768, precisão: 85.14%\n"
          ]
        }
      ],
      "source": [
        "test(model, test_dataloader, loss_function)"
      ]
    },
    {
      "cell_type": "markdown",
      "source": [
        "## Salvamento e Carregamento do Modelo"
      ],
      "metadata": {
        "id": "zDkaU1pV44so"
      }
    },
    {
      "cell_type": "code",
      "source": [
        "torch.save(model.state_dict(), 'model_weights.pth')"
      ],
      "metadata": {
        "id": "h59eJGzC47T9"
      },
      "execution_count": 13,
      "outputs": []
    },
    {
      "cell_type": "code",
      "source": [
        "model2 = NetWork()\n",
        "model2 = torch.load('model_weights.pth', weights_only=True)"
      ],
      "metadata": {
        "id": "mJlxn21dIMhu"
      },
      "execution_count": 14,
      "outputs": []
    }
  ],
  "metadata": {
    "kernelspec": {
      "display_name": "Python 3",
      "name": "python3"
    },
    "language_info": {
      "codemirror_mode": {
        "name": "ipython",
        "version": 3
      },
      "file_extension": ".py",
      "mimetype": "text/x-python",
      "name": "python",
      "nbconvert_exporter": "python",
      "pygments_lexer": "ipython3",
      "version": "3.10.12"
    },
    "colab": {
      "provenance": [],
      "gpuType": "T4"
    },
    "accelerator": "GPU"
  },
  "nbformat": 4,
  "nbformat_minor": 0
}