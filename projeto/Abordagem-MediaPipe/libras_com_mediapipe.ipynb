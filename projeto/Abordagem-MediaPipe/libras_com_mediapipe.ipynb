{
 "cells": [
  {
   "cell_type": "code",
   "execution_count": 1,
   "metadata": {},
   "outputs": [],
   "source": [
    "import cv2\n",
    "import os\n",
    "import numpy as np\n",
    "import matplotlib.pyplot as plt"
   ]
  },
  {
   "cell_type": "code",
   "execution_count": null,
   "metadata": {},
   "outputs": [],
   "source": [
    "from roboflow import Roboflow\n",
    "api_key = input(\"Digite sua chave de API do Roboflow: \")\n",
    "rf = Roboflow(api_key=api_key)\n",
    "project = rf.workspace(\"gomes-project\").project(\"projeto-libras\")\n",
    "version = project.version(21)\n",
    "dataset = version.download(\"yolov8\")"
   ]
  },
  {
   "cell_type": "code",
   "execution_count": 2,
   "metadata": {},
   "outputs": [],
   "source": [
    "paths = []"
   ]
  },
  {
   "cell_type": "code",
   "execution_count": null,
   "metadata": {},
   "outputs": [],
   "source": [
    "paths = [os.path.join(\"/content/projeto-libras-21/train/images\", f) for f in os.listdir(\"/content/projeto-libras-21/train/images\")]"
   ]
  },
  {
   "cell_type": "code",
   "execution_count": 3,
   "metadata": {},
   "outputs": [],
   "source": [
    "labels = []"
   ]
  },
  {
   "cell_type": "code",
   "execution_count": 4,
   "metadata": {},
   "outputs": [],
   "source": [
    "for path in paths:\n",
    "  path_txt = path.replace('/images/', '/labels/').replace('.jpg', '.txt')\n",
    "  with open(path_txt, 'r') as file:\n",
    "    linha = file.readline()\n",
    "  label = linha.split(' ')[0]\n",
    "  #print(label)\n",
    "  labels.append([path_txt, label])"
   ]
  },
  {
   "cell_type": "code",
   "execution_count": null,
   "metadata": {},
   "outputs": [],
   "source": [
    "imagem = cv2.imread(paths[99])\n",
    "imagem = cv2.cvtColor(imagem, cv2.COLOR_BGR2RGB)\n",
    "plt.imshow(imagem)"
   ]
  },
  {
   "cell_type": "code",
   "execution_count": 6,
   "metadata": {},
   "outputs": [],
   "source": [
    "import csv"
   ]
  },
  {
   "cell_type": "code",
   "execution_count": 7,
   "metadata": {},
   "outputs": [
    {
     "data": {
      "text/plain": [
       "['class',\n",
       " 'x1',\n",
       " 'y1',\n",
       " 'z1',\n",
       " 'x2',\n",
       " 'y2',\n",
       " 'z2',\n",
       " 'x3',\n",
       " 'y3',\n",
       " 'z3',\n",
       " 'x4',\n",
       " 'y4',\n",
       " 'z4',\n",
       " 'x5',\n",
       " 'y5',\n",
       " 'z5',\n",
       " 'x6',\n",
       " 'y6',\n",
       " 'z6',\n",
       " 'x7',\n",
       " 'y7',\n",
       " 'z7',\n",
       " 'x8',\n",
       " 'y8',\n",
       " 'z8',\n",
       " 'x9',\n",
       " 'y9',\n",
       " 'z9',\n",
       " 'x10',\n",
       " 'y10',\n",
       " 'z10',\n",
       " 'x11',\n",
       " 'y11',\n",
       " 'z11',\n",
       " 'x12',\n",
       " 'y12',\n",
       " 'z12',\n",
       " 'x13',\n",
       " 'y13',\n",
       " 'z13',\n",
       " 'x14',\n",
       " 'y14',\n",
       " 'z14',\n",
       " 'x15',\n",
       " 'y15',\n",
       " 'z15',\n",
       " 'x16',\n",
       " 'y16',\n",
       " 'z16',\n",
       " 'x17',\n",
       " 'y17',\n",
       " 'z17',\n",
       " 'x18',\n",
       " 'y18',\n",
       " 'z18',\n",
       " 'x19',\n",
       " 'y19',\n",
       " 'z19',\n",
       " 'x20',\n",
       " 'y20',\n",
       " 'z20',\n",
       " 'x21',\n",
       " 'y21',\n",
       " 'z21']"
      ]
     },
     "execution_count": 7,
     "metadata": {},
     "output_type": "execute_result"
    }
   ],
   "source": [
    "num_colunas = 21\n",
    "colunas = ['class']\n",
    "for c in range(1, num_colunas+1):\n",
    "    colunas += ['x{}'.format(c), 'y{}'.format(c), 'z{}'.format(c)]\n",
    "colunas"
   ]
  },
  {
   "cell_type": "code",
   "execution_count": null,
   "metadata": {},
   "outputs": [],
   "source": [
    "with open('handgestures.csv', 'w', newline='') as file:\n",
    "    csv_writer = csv.writer(file, delimiter=\",\")\n",
    "    csv_writer.writerow(colunas)"
   ]
  },
  {
   "cell_type": "code",
   "execution_count": 8,
   "metadata": {},
   "outputs": [],
   "source": [
    "import mediapipe as mp"
   ]
  },
  {
   "cell_type": "code",
   "execution_count": null,
   "metadata": {},
   "outputs": [],
   "source": [
    "mp_hand = mp.solutions.hands\n",
    "Hand = mp_hand.Hands()\n",
    "mp_draw = mp.solutions.drawing_utils\n",
    "connections_style = mp_draw.DrawingSpec(color=(0, 255, 0))"
   ]
  },
  {
   "cell_type": "code",
   "execution_count": null,
   "metadata": {},
   "outputs": [],
   "source": [
    "for c in range(len(paths)):\n",
    "    imagem = cv2.imread(paths[c])\n",
    "    imageRGB = cv2.cvtColor(imagem, cv2.COLOR_BGR2RGB)\n",
    "    label = labels[c][1]\n",
    "    results = Hand.process(imageRGB)\n",
    "    if results.multi_hand_landmarks:\n",
    "        for handlm in results.multi_hand_landmarks:\n",
    "            mp_draw.draw_landmarks(imageRGB, handlm, mp_hand.HAND_CONNECTIONS, connection_drawing_spec=connections_style)\n",
    "            hand = handlm.landmark\n",
    "            hand_row = list(np.array([[landmark.x, landmark.y, landmark.z] for landmark in hand]).flatten())\n",
    "            hand_row.insert(0, label)\n",
    "            # Salvar os dados em CSV\n",
    "            try:\n",
    "                with open('handgestures.csv', 'a', newline='') as file:\n",
    "                    csv_writer = csv.writer(file, delimiter=\",\")\n",
    "                    csv_writer.writerow(hand_row)\n",
    "            except Exception as e:\n",
    "                print(f\"Erro ao salvar os landmarks: {e}\")"
   ]
  }
 ],
 "metadata": {
  "kernelspec": {
   "display_name": "Python 3",
   "language": "python",
   "name": "python3"
  },
  "language_info": {
   "codemirror_mode": {
    "name": "ipython",
    "version": 3
   },
   "file_extension": ".py",
   "mimetype": "text/x-python",
   "name": "python",
   "nbconvert_exporter": "python",
   "pygments_lexer": "ipython3",
   "version": "3.11.3"
  }
 },
 "nbformat": 4,
 "nbformat_minor": 2
}
