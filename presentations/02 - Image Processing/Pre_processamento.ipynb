{
  "cells": [
    {
      "cell_type": "markdown",
      "metadata": {
        "id": "G651A2uaQSTL"
      },
      "source": [
        "# importacoes"
      ]
    },
    {
      "cell_type": "code",
      "execution_count": null,
      "metadata": {
        "id": "jpwZ0J5wQSTO"
      },
      "outputs": [],
      "source": [
        "import cv2;\n",
        "import numpy as np;\n",
        "from matplotlib import pyplot as grafico;"
      ]
    },
    {
      "cell_type": "code",
      "execution_count": null,
      "metadata": {
        "id": "NQDLmnVTQSTQ"
      },
      "outputs": [],
      "source": [
        "imagem = cv2.imread(\"gatoFofo.jpeg\");\n",
        "imagemBMP = cv2.imread(\"Coruja.bmp\"); # Carrega a imagem BMP em tons de cinza\n",
        "\n",
        "imagemBtPreto = cv2.imread(\"BotoesPreto.jpg\");\n",
        "imagemBtVermelho = cv2.imread(\"BotoesVermelho.jpg\");\n",
        "moedasImg = cv2.imread('moedas.jpg')\n",
        "salPimentaImg = cv2.imread('salPimenta.jpeg')\n",
        "estacionamentoImg = cv2.imread('estacionamento.png', 0)\n",
        "luaImg = cv2.imread('lua.jpg', 0)\n",
        "radiografiaImg = cv2.imread('radiografia.jpeg', 0)"
      ]
    },
    {
      "cell_type": "markdown",
      "source": [
        "# Pré *processamento*\n",
        "\n",
        "\n",
        "Na visao computacional, é util realizar etapas de pre processamento para facilitar a segmentacao da imagem em etapas posteriores, realçando-os"
      ],
      "metadata": {
        "id": "yp3MDXQfSjVp"
      }
    },
    {
      "cell_type": "markdown",
      "metadata": {
        "id": "zpCs7yKFQSTS"
      },
      "source": [
        "Algo muito util é mudar os valores dos pixels, que sao tratados como uma matriz"
      ]
    },
    {
      "cell_type": "code",
      "execution_count": null,
      "metadata": {
        "colab": {
          "base_uri": "https://localhost:8080/"
        },
        "id": "_e4nX8w1QSTS",
        "outputId": "e8b605cf-49df-46a7-814a-b39887275da3"
      },
      "outputs": [
        {
          "output_type": "stream",
          "name": "stdout",
          "text": [
            "[40 49 58]\n"
          ]
        }
      ],
      "source": [
        "valorPixel = imagem[100,150];\n",
        "print(valorPixel); # Printa o valor do pixel na posição 100,150\n",
        "\n",
        "# a primeira posicao da resposta é o valor do pixel azul, a segunda é o verde e a terceira é o vermelho"
      ]
    },
    {
      "cell_type": "markdown",
      "metadata": {
        "id": "kCbTYoZ1QSTU"
      },
      "source": [
        "Converter a imagem pra cinza faz com quie a representacao fique menor, apenas com um valor"
      ]
    },
    {
      "cell_type": "code",
      "execution_count": null,
      "metadata": {
        "colab": {
          "base_uri": "https://localhost:8080/"
        },
        "id": "xGcHygBmQSTV",
        "outputId": "d9409538-823b-4061-fbd5-21ea4580434f"
      },
      "outputs": [
        {
          "output_type": "stream",
          "name": "stdout",
          "text": [
            "47\n"
          ]
        }
      ],
      "source": [
        "imagem = cv2.cvtColor(imagem, cv2.COLOR_RGB2GRAY); # Converte a imagem para escala de cinza\n",
        "valorPixel = imagem[100,150];\n",
        "print(valorPixel); # Printa o valor do pixel na posição 100,150\n",
        "\n",
        "# o retorno é um unico valor que representa a intensidade de cinza do pixel"
      ]
    },
    {
      "cell_type": "markdown",
      "metadata": {
        "id": "AZYjvBBMQSTX"
      },
      "source": [
        "Podemos tambem obter a intensidade de cor em um unico canal (nesse caso por estar em escala de cinza, nao é possivel)\n",
        "onde:\n",
        "\n",
        "0 - red |\n",
        "1 - green |\n",
        "2 - blue |"
      ]
    },
    {
      "cell_type": "code",
      "execution_count": null,
      "metadata": {
        "colab": {
          "base_uri": "https://localhost:8080/"
        },
        "id": "9pT6LQA5QSTY",
        "outputId": "e7b598d2-4bea-46b6-c8fb-a7b08493dd51"
      },
      "outputs": [
        {
          "output_type": "stream",
          "name": "stdout",
          "text": [
            "47\n"
          ]
        }
      ],
      "source": [
        "valorPixel = imagem[100, 150]\n",
        "print(valorPixel); # Printa o valor do pixel na posição 150,150 do canal azul"
      ]
    },
    {
      "cell_type": "markdown",
      "metadata": {
        "id": "9HZatzWHQSTZ"
      },
      "source": [
        "Para alterar um valor, basta adicinar valores na matriz"
      ]
    },
    {
      "cell_type": "code",
      "execution_count": null,
      "metadata": {
        "colab": {
          "base_uri": "https://localhost:8080/"
        },
        "id": "Vw5zMrhZQSTZ",
        "outputId": "7f37123c-e749-4f5f-f75e-3f947c374674"
      },
      "outputs": [
        {
          "output_type": "stream",
          "name": "stdout",
          "text": [
            "[40 49 58]\n",
            "[255 255 255]\n"
          ]
        }
      ],
      "source": [
        "imagem = cv2.imread(\"gatoFofo.jpeg\");\n",
        "print (imagem[100, 150])\n",
        "imagem[100, 150] = [255, 255, 255] # Muda o valor do pixel na posição 100,150 para branco\n",
        "print (imagem[100, 150])\n"
      ]
    },
    {
      "cell_type": "markdown",
      "metadata": {
        "id": "S-HkGQreQSTa"
      },
      "source": [
        "##### Acessando informacoes da imagem:\n",
        "\n",
        "podemos por meio do openCv obter outras informacoes da imagem, tais elas:"
      ]
    },
    {
      "cell_type": "markdown",
      "metadata": {
        "id": "7j5f3KCpQSTa"
      },
      "source": [
        "Shape - Numero de linhas/colunas/canais de uma determinada imagem"
      ]
    },
    {
      "cell_type": "code",
      "execution_count": null,
      "metadata": {
        "colab": {
          "base_uri": "https://localhost:8080/"
        },
        "id": "LtktZIvSQSTa",
        "outputId": "93c5b740-d2b7-4f69-c1e3-3458fc7ce4e4"
      },
      "outputs": [
        {
          "output_type": "stream",
          "name": "stdout",
          "text": [
            "(217, 232, 3)\n"
          ]
        }
      ],
      "source": [
        "print(imagem.shape) # Printa a dimensão da imagem (altura, largura, canais de cor)"
      ]
    },
    {
      "cell_type": "markdown",
      "metadata": {
        "id": "Bd2pv1QYQSTb"
      },
      "source": [
        "Size - quantidade de pixeis"
      ]
    },
    {
      "cell_type": "code",
      "execution_count": null,
      "metadata": {
        "colab": {
          "base_uri": "https://localhost:8080/"
        },
        "id": "0pZyjUgSQSTb",
        "outputId": "9a1065b3-4ff2-4721-e63e-a5f5a469fcef"
      },
      "outputs": [
        {
          "output_type": "stream",
          "name": "stdout",
          "text": [
            "151032\n"
          ]
        }
      ],
      "source": [
        "print(imagem.size) # Printa o número de pixels da imagem, dividir esse valor por 3 nos retorna quantas linhas e colunas tem a imagem"
      ]
    },
    {
      "cell_type": "markdown",
      "metadata": {
        "id": "gn2Vdo9nQSTb"
      },
      "source": [
        "### Histogramas\n",
        "\n",
        "\n",
        "histogramas explicam a distribuicao de frequencia dos niveis de cinza em relacao ao numero de amostras, essa distrubuicao diz respeito a qualidade da imagem, principalmente no que diz respeito a luminosidade e constraste"
      ]
    },
    {
      "cell_type": "code",
      "execution_count": null,
      "metadata": {
        "colab": {
          "base_uri": "https://localhost:8080/"
        },
        "id": "6-7WIyqQQSTc",
        "outputId": "2b697117-00bc-44bc-a7cb-6aa576325d59"
      },
      "outputs": [
        {
          "output_type": "stream",
          "name": "stdout",
          "text": [
            "Total de pixels pretos:  54859\n",
            "Total de pixels brancos:  945141\n"
          ]
        }
      ],
      "source": [
        "# Imagem binaria\n",
        "imagemBMP = cv2.imread(\"Coruja.bmp\", 0); # Carrega a imagem em escala de cinza\n",
        "\n",
        "totalPixelsPreto = 0;\n",
        "totalPixelsBranco = 0;\n",
        "\n",
        "for x in range(0, 1000):\n",
        "    for y in range(0, 1000):\n",
        "        if imagemBMP[x, y] == 0:\n",
        "            totalPixelsPreto += 1;\n",
        "        else:\n",
        "            totalPixelsBranco += 1;\n",
        "\n",
        "print(\"Total de pixels pretos: \", totalPixelsPreto);\n",
        "print(\"Total de pixels brancos: \", totalPixelsBranco);\n"
      ]
    },
    {
      "cell_type": "markdown",
      "metadata": {
        "id": "pQtkWmo_QSTc"
      },
      "source": [
        "o metodo utilizado é bom, porem a matplotlib possui a funçao '''hist''' que abstrai essas informacoes e ilustra em um histgrama de corem"
      ]
    },
    {
      "cell_type": "code",
      "execution_count": null,
      "metadata": {
        "colab": {
          "base_uri": "https://localhost:8080/",
          "height": 445
        },
        "id": "sZJwRQvtQSTd",
        "outputId": "dd70c238-dfaa-47e7-ba0a-9218e51fe2de"
      },
      "outputs": [
        {
          "output_type": "display_data",
          "data": {
            "text/plain": [
              "<Figure size 640x480 with 1 Axes>"
            ],
            "image/png": "[encoded data removed]"
          },
          "metadata": {}
        }
      ],
      "source": [
        "# Ler importacoes para saber de onde vem cada funcao\n",
        "\n",
        "grafico.hist(imagemBMP.ravel(), 255, [0, 256]) # Cria um histograma da imagem\n",
        "# Paremetros da hist:\n",
        "# 1 - Imagem a ser analisada\n",
        "# 2 - Numero de elementos distintos que podem ser representados\n",
        "# 3 - Intervalo entre os elementos ( varia de 0 a 255, ou seja 256 tonalidades)\n",
        "# ravel transforma a matriz em um vetor\n",
        "grafico.show()\n"
      ]
    },
    {
      "cell_type": "markdown",
      "metadata": {
        "id": "CHYFAAJuQSTd"
      },
      "source": [
        "Para imagens coloridas, podemos gerar 3 histogramas de cada canal"
      ]
    },
    {
      "cell_type": "code",
      "execution_count": null,
      "metadata": {
        "colab": {
          "base_uri": "https://localhost:8080/",
          "height": 1000
        },
        "id": "KQOi8c1rQSTe",
        "outputId": "76421823-6a37-422d-b43d-2259dba6cf27"
      },
      "outputs": [
        {
          "output_type": "display_data",
          "data": {
            "text/plain": [
              "<Figure size 640x480 with 1 Axes>"
            ],
            "image/png": "[encoded data removed]"
          },
          "metadata": {}
        },
        {
          "output_type": "display_data",
          "data": {
            "text/plain": [
              "<Figure size 640x480 with 1 Axes>"
            ],
            "image/png": "[encoded data removed]"
          },
          "metadata": {}
        },
        {
          "output_type": "display_data",
          "data": {
            "text/plain": [
              "<Figure size 640x480 with 1 Axes>"
            ],
            "image/png": "[encoded data removed]"
          },
          "metadata": {}
        }
      ],
      "source": [
        "azul, verde, vermelho = cv2.split(imagem); # Separa os canais de cor da imagem\n",
        "\n",
        "grafico.hist(azul.ravel(), 255, [0, 256], color = 'b') # Cria um histograma do canal azul\n",
        "grafico.figure() # Cria uma nova figura\n",
        "\n",
        "grafico.hist(verde.ravel(), 255, [0, 256], color = 'g') # Cria um histograma do canal verde\n",
        "grafico.figure() # Cria uma nova figura\n",
        "\n",
        "grafico.hist(vermelho.ravel(), 255, [0, 256], color = 'r') # Cria um histograma do canal vermelho\n",
        "grafico.show()"
      ]
    },
    {
      "cell_type": "markdown",
      "metadata": {
        "id": "oeRZlu4NQSTe"
      },
      "source": [
        "### Equalizaçao de Histograma\n",
        "\n",
        "Equalizar um histograma é realçar um objeto de forma que ele fique mais nitido\n",
        "\n",
        "um histograma mais a direita significa que a luminosidade esta mais forte\n",
        "um histograma mais a a esquerda significa que esta com uma intensidade luminosa menor\n",
        "\n",
        "imagens com baixo nivel de contraste apresentam menor nitides, sendo caracterizados por histogramas estreitos\n",
        "imagens com constrastes altos, apresentam histogramas mais largos\n",
        "\n",
        "as vezes a condicao da imagem impossibilita a obtencao de informaçoes, o objetivo da equalizaçao passa a ser distribuir esse esse histograma ( que teria regioes sem marcaçao) de forma a obter uma imagem mais nitida, com as tonalidades de cinza realmente variando de 0 a 255\n",
        "\n",
        "\n",
        "na OpenCv existe a \"equalizeHist\" que permite equalizar histogramas das imagens"
      ]
    },
    {
      "cell_type": "code",
      "execution_count": null,
      "metadata": {
        "colab": {
          "base_uri": "https://localhost:8080/",
          "height": 439
        },
        "id": "n8MxPK-wQSTf",
        "outputId": "7c969400-88ba-43f0-ed33-5369b73c31bc"
      },
      "outputs": [
        {
          "output_type": "error",
          "ename": "DisabledFunctionError",
          "evalue": "cv2.imshow() is disabled in Colab, because it causes Jupyter sessions\nto crash; see https://github.com/jupyter/notebook/issues/3935.\nAs a substitution, consider using\n  from google.colab.patches import cv2_imshow\n",
          "traceback": [
            "\u001b[0;31m---------------------------------------------------------------------------\u001b[0m",
            "\u001b[0;31mDisabledFunctionError\u001b[0m                     Traceback (most recent call last)",
            "\u001b[0;32m<ipython-input-28-5346f8fd48d5>\u001b[0m in \u001b[0;36m<cell line: 5>\u001b[0;34m()\u001b[0m\n\u001b[1;32m      3\u001b[0m \u001b[0mimagemEqualizada\u001b[0m \u001b[0;34m=\u001b[0m \u001b[0mcv2\u001b[0m\u001b[0;34m.\u001b[0m\u001b[0mequalizeHist\u001b[0m\u001b[0;34m(\u001b[0m\u001b[0mimagemCinza\u001b[0m\u001b[0;34m)\u001b[0m \u001b[0;31m# Equaliza o histograma da imagem\u001b[0m\u001b[0;34m\u001b[0m\u001b[0;34m\u001b[0m\u001b[0m\n\u001b[1;32m      4\u001b[0m \u001b[0;34m\u001b[0m\u001b[0m\n\u001b[0;32m----> 5\u001b[0;31m \u001b[0mcv2\u001b[0m\u001b[0;34m.\u001b[0m\u001b[0mimshow\u001b[0m\u001b[0;34m(\u001b[0m\u001b[0;34m\"Imagem Original\"\u001b[0m\u001b[0;34m,\u001b[0m \u001b[0mimagemOriginal\u001b[0m\u001b[0;34m)\u001b[0m\u001b[0;34m\u001b[0m\u001b[0;34m\u001b[0m\u001b[0m\n\u001b[0m\u001b[1;32m      6\u001b[0m \u001b[0mcv2\u001b[0m\u001b[0;34m.\u001b[0m\u001b[0mimshow\u001b[0m\u001b[0;34m(\u001b[0m\u001b[0;34m\"Imagem Equalizada\"\u001b[0m\u001b[0;34m,\u001b[0m \u001b[0mimagemEqualizada\u001b[0m\u001b[0;34m)\u001b[0m\u001b[0;34m\u001b[0m\u001b[0;34m\u001b[0m\u001b[0m\n\u001b[1;32m      7\u001b[0m \u001b[0;34m\u001b[0m\u001b[0m\n",
            "\u001b[0;32m/usr/local/lib/python3.10/dist-packages/google/colab/_import_hooks/_cv2.py\u001b[0m in \u001b[0;36mwrapped\u001b[0;34m(*args, **kwargs)\u001b[0m\n\u001b[1;32m     46\u001b[0m   \u001b[0;32mdef\u001b[0m \u001b[0mwrapped\u001b[0m\u001b[0;34m(\u001b[0m\u001b[0;34m*\u001b[0m\u001b[0margs\u001b[0m\u001b[0;34m,\u001b[0m \u001b[0;34m**\u001b[0m\u001b[0mkwargs\u001b[0m\u001b[0;34m)\u001b[0m\u001b[0;34m:\u001b[0m\u001b[0;34m\u001b[0m\u001b[0;34m\u001b[0m\u001b[0m\n\u001b[1;32m     47\u001b[0m     \u001b[0;32mif\u001b[0m \u001b[0;32mnot\u001b[0m \u001b[0mos\u001b[0m\u001b[0;34m.\u001b[0m\u001b[0menviron\u001b[0m\u001b[0;34m.\u001b[0m\u001b[0mget\u001b[0m\u001b[0;34m(\u001b[0m\u001b[0menv_var\u001b[0m\u001b[0;34m,\u001b[0m \u001b[0;32mFalse\u001b[0m\u001b[0;34m)\u001b[0m\u001b[0;34m:\u001b[0m\u001b[0;34m\u001b[0m\u001b[0;34m\u001b[0m\u001b[0m\n\u001b[0;32m---> 48\u001b[0;31m       \u001b[0;32mraise\u001b[0m \u001b[0mDisabledFunctionError\u001b[0m\u001b[0;34m(\u001b[0m\u001b[0mmessage\u001b[0m\u001b[0;34m,\u001b[0m \u001b[0mname\u001b[0m \u001b[0;32mor\u001b[0m \u001b[0mfunc\u001b[0m\u001b[0;34m.\u001b[0m\u001b[0m__name__\u001b[0m\u001b[0;34m)\u001b[0m\u001b[0;34m\u001b[0m\u001b[0;34m\u001b[0m\u001b[0m\n\u001b[0m\u001b[1;32m     49\u001b[0m     \u001b[0;32mreturn\u001b[0m \u001b[0mfunc\u001b[0m\u001b[0;34m(\u001b[0m\u001b[0;34m*\u001b[0m\u001b[0margs\u001b[0m\u001b[0;34m,\u001b[0m \u001b[0;34m**\u001b[0m\u001b[0mkwargs\u001b[0m\u001b[0;34m)\u001b[0m\u001b[0;34m\u001b[0m\u001b[0;34m\u001b[0m\u001b[0m\n\u001b[1;32m     50\u001b[0m \u001b[0;34m\u001b[0m\u001b[0m\n",
            "\u001b[0;31mDisabledFunctionError\u001b[0m: cv2.imshow() is disabled in Colab, because it causes Jupyter sessions\nto crash; see https://github.com/jupyter/notebook/issues/3935.\nAs a substitution, consider using\n  from google.colab.patches import cv2_imshow\n"
          ],
          "errorDetails": {
            "actions": [
              {
                "action": "open_snippet",
                "actionText": "Search Snippets for cv2.imshow",
                "snippetFilter": "cv2.imshow"
              }
            ]
          }
        }
      ],
      "source": [
        "imagemOriginal = cv2.imread(\"imagem1.jpg\")\n",
        "imagemCinza = cv2.cvtColor(imagemOriginal, cv2.COLOR_BGR2GRAY) # Converte a imagem para escala de cinza\n",
        "imagemEqualizada = cv2.equalizeHist(imagemCinza) # Equaliza o histograma da imagem\n",
        "\n",
        "cv2.imshow(\"Imagem Original\", imagemOriginal)\n",
        "cv2.imshow(\"Imagem Equalizada\", imagemEqualizada)\n",
        "\n",
        "grafico.hist(imagemOriginal.ravel(), 256, [0, 256], color = 'gray') # Cria um histograma da imagem original\n",
        "grafico.figure()\n",
        "\n",
        "grafico.hist(imagemEqualizada.ravel(), 256, [0, 256], color = 'yellow') # Cria um histograma da imagem equalizada\n",
        "\n",
        "grafico.show()\n",
        "\n",
        "cv2.waitKey(0)\n",
        "cv2.destroyAllWindows()"
      ]
    },
    {
      "cell_type": "markdown",
      "metadata": {
        "id": "D8vRY0H3QSTf"
      },
      "source": [
        "Fazer isso porem interfere na qualidade das cores da imagem, uma boa opçao é utilizar o HSV, porque assim podemos manter o HS(que representam a cor) e aplicar a logica somente no value, mantendo assim as caracteristicas das cores"
      ]
    },
    {
      "cell_type": "markdown",
      "metadata": {
        "id": "kqGnvJ86QSTg"
      },
      "source": [
        "### Transformaçoes Geometricas\n",
        "\n",
        "Inverter/rotacionar/ajustar escala e perspectiva"
      ]
    },
    {
      "cell_type": "code",
      "execution_count": null,
      "metadata": {
        "id": "SjwfCPHbQSTg"
      },
      "outputs": [],
      "source": [
        "matriz = cv2.getRotationMatrix2D(\n",
        "    (imagem.shape[1] / 2, imagem.shape[0] / 2), 90, 1 # Ponto central da imagem (largura, altura) | angulo de rotação | escala\n",
        ")"
      ]
    },
    {
      "cell_type": "code",
      "execution_count": null,
      "metadata": {
        "id": "6Uk8vuu3QSTh"
      },
      "outputs": [],
      "source": [
        "# Rotaciona a imagem\n",
        "imagemRotacionada = cv2.warpAffine(\n",
        "    imagem, # Imagem a ser rotacionada\n",
        "    matriz, # Matriz de rotação\n",
        "    (imagem.shape[1], imagem.shape[0]) # Tamanho da imagem\n",
        ")\n",
        "\n",
        "cv2.imshow(\"Imagem Rotacionada\", imagemRotacionada)\n",
        "\n",
        "cv2.waitKey(0)\n",
        "cv2.destroyAllWindows()"
      ]
    },
    {
      "cell_type": "code",
      "execution_count": null,
      "metadata": {
        "id": "fBNlxzsUQSTh"
      },
      "outputs": [],
      "source": [
        "# Translação de imagem\n",
        "\n",
        "totalLinhas, totalColunas = imagem.shape[:2] # Pega a altura e largura da imagem\n",
        "\n",
        "matriz = np.float32([[1, 0, 100], [0, 1, 100]]) # Matriz de translação\n",
        "imagemDeslocada = cv2.warpAffine(\n",
        "    imagem, # Imagem a ser transladada\n",
        "    matriz, # Matriz de translação\n",
        "    (totalColunas, totalLinhas) # Tamanho da imagem\n",
        ")\n",
        "\n",
        "cv2.imshow(\"Imagem Deslocada\", imagemDeslocada)\n",
        "\n",
        "cv2.waitKey(0)\n",
        "cv2.destroyAllWindows()\n"
      ]
    },
    {
      "cell_type": "code",
      "execution_count": null,
      "metadata": {
        "id": "TbfEBVSBQSTh"
      },
      "outputs": [],
      "source": [
        "# Redimensionamento de imagens, o fx e fy são os fatores de escala\n",
        "imagemModificada = cv2.resize(\n",
        "    imagem, # Imagem a ser redimensionada\n",
        "    None, fx=0.5, fy=0.5, # Fatores de escala\n",
        "    interpolation= cv2.INTER_CUBIC, # Método de interpolação\n",
        ")\n",
        "\n",
        "cv2.imshow(\"Imagem Modificada\", imagemModificada)\n",
        "\n",
        "cv2.waitKey(0)\n",
        "cv2.destroyAllWindows()"
      ]
    },
    {
      "cell_type": "code",
      "execution_count": null,
      "metadata": {
        "id": "dbLXAu-mQSTi",
        "outputId": "83221fbb-02c2-4f94-fd69-e25525fe19b3"
      },
      "outputs": [
        {
          "name": "stderr",
          "output_type": "stream",
          "text": [
            "Warning: Ignoring XDG_SESSION_TYPE=wayland on Gnome. Use QT_QPA_PLATFORM=wayland to run on Wayland anyway.\n"
          ]
        }
      ],
      "source": [
        "# Ajustes de perspectiva, digamos que tenhamos uma imagem de um quadro torto e queremos endireitar\n",
        "pontosIniciais = np.float32(\n",
        "    [\n",
        "        [189, 87], [459, 84], [192, 373], [484, 372]\n",
        "    ]\n",
        ")\n",
        "pontosFinais = np.float32(\n",
        "    [\n",
        "        [0, 0], [500, 0], [0, 500], [500, 500]\n",
        "    ]\n",
        ")\n",
        "\n",
        "matriz = cv2.getPerspectiveTransform(pontosIniciais, pontosFinais) # Matriz de transformação de perspectiva\n",
        "\n",
        "imagemPerspectiva = cv2.warpPerspective(\n",
        "    imagem, # Imagem a ser transformada\n",
        "    matriz, # Matriz de transformação\n",
        "    (imagem.shape[1], imagem.shape[0]) # Tamanho da imagem\n",
        ")\n",
        "\n",
        "cv2.imshow(\"Imagem Perspectiva\", imagemPerspectiva)\n",
        "\n",
        "cv2.waitKey(0)\n",
        "cv2.destroyAllWindows()"
      ]
    },
    {
      "cell_type": "markdown",
      "metadata": {
        "id": "R9A1iUTjQSTj"
      },
      "source": [
        "### Operaçoes Aritméticas:\n",
        "\n",
        "Nos permite adicionar conteudos de imagens, em outras, ou mistura-los\n",
        "\n",
        "Geralmente, para que as operacoes acotecam, é necessario que ambas as imagens tenham o mesmo tamanho de largura e altura"
      ]
    },
    {
      "cell_type": "markdown",
      "metadata": {
        "id": "yJtVRwHZQSTj"
      },
      "source": [
        "##### Adiçao:\n",
        "\n",
        "Adicao consiste em somas os valores dos pixels de uma imagem com outra(s), resultando em uma nova imagem.  para isso usamos a ADD"
      ]
    },
    {
      "cell_type": "code",
      "execution_count": null,
      "metadata": {
        "id": "KnXMnBMmQSTj"
      },
      "outputs": [],
      "source": [
        "NovaImagem = cv2.add(imagemBtPreto, imagemBtVermelho) # Soma as duas imagens\n",
        "cv2.imshow(\"Nova Imagem\", NovaImagem)\n",
        "\n",
        "cv2.waitKey(0)\n",
        "cv2.destroyAllWindows()"
      ]
    },
    {
      "cell_type": "code",
      "execution_count": null,
      "metadata": {
        "id": "ArNnb-DuQSTj",
        "outputId": "6ff47d50-f52d-4a5a-b4ad-8db61602337f"
      },
      "outputs": [
        {
          "data": {
            "image/png": "[encoded data removed]",
            "text/plain": [
              "<Figure size 640x480 with 1 Axes>"
            ]
          },
          "metadata": {},
          "output_type": "display_data"
        },
        {
          "data": {
            "image/png": "[encoded data removed]",
            "text/plain": [
              "<Figure size 640x480 with 1 Axes>"
            ]
          },
          "metadata": {},
          "output_type": "display_data"
        },
        {
          "data": {
            "image/png": "[encoded data removed]",
            "text/plain": [
              "<Figure size 640x480 with 1 Axes>"
            ]
          },
          "metadata": {},
          "output_type": "display_data"
        }
      ],
      "source": [
        "# Contraste sendo alterado por meio da adicao\n",
        "\n",
        "from matplotlib import pyplot as grafico\n",
        "\n",
        "imagemOriginal = imagem;\n",
        "imagemClara = cv2.add(imagemOriginal, 50) # Adiciona 50 a todos os pixels da imagem\n",
        "imagemEscura = cv2.add(imagemOriginal, -50) # Subtrai 50 de todos os pixels da imagem\n",
        "\n",
        "cv2.imshow(\"Imagem Original\", imagemOriginal)\n",
        "cv2.imshow(\"Imagem Clara\", imagemClara)\n",
        "cv2.imshow(\"Imagem Escura\", imagemEscura)\n",
        "\n",
        "grafico.hist(imagemOriginal.ravel(), 256, [0, 256], color = 'gray') # Cria um histograma da imagem original\n",
        "grafico.figure()\n",
        "\n",
        "grafico.hist(imagemClara.ravel(), 256, [0, 256], color = 'yellow') # Cria um histograma da imagem clara\n",
        "grafico.figure()\n",
        "\n",
        "grafico.hist(imagemEscura.ravel(), 256, [0, 256], color = 'black') # Cria um histograma da imagem escura\n",
        "\n",
        "grafico.show()\n",
        "\n",
        "cv2.waitKey(0)\n",
        "cv2.destroyAllWindows()"
      ]
    },
    {
      "cell_type": "markdown",
      "metadata": {
        "id": "EBX-BMHPQSTk"
      },
      "source": [
        "#### Subtracao\n",
        "\n",
        "Nesse método nos permite ter a diferenca de uma imagem para outra, isso é util para visualizar objetos em movimento entre duas imagens por exemplo"
      ]
    },
    {
      "cell_type": "code",
      "execution_count": null,
      "metadata": {
        "id": "0Vm80dbfQSTk",
        "outputId": "41f746d9-1423-42b5-8c70-13195e5d364b"
      },
      "outputs": [
        {
          "name": "stderr",
          "output_type": "stream",
          "text": [
            "Warning: Ignoring XDG_SESSION_TYPE=wayland on Gnome. Use QT_QPA_PLATFORM=wayland to run on Wayland anyway.\n"
          ]
        }
      ],
      "source": [
        "imagemSubtraida = cv2.subtract(imagemBtVermelho, imagemBtPreto) # Subtrai as duas imagens\n",
        "\n",
        "cv2.imshow(\"Imagem Subtraida\", imagemSubtraida)\n",
        "\n",
        "cv2.waitKey(0)\n",
        "cv2.destroyAllWindows()"
      ]
    },
    {
      "cell_type": "markdown",
      "metadata": {
        "id": "rClqyweiQSTl"
      },
      "source": [
        "#### Mistura\n",
        "\n",
        "A opcao de misturar junta as duas imagens considerando um peso"
      ]
    },
    {
      "cell_type": "code",
      "execution_count": null,
      "metadata": {
        "id": "Pu02T4paQSTv"
      },
      "outputs": [],
      "source": [
        "imagemMisturada = cv2.addWeighted(\n",
        "    imagemBtPreto, 0.2, imagemBtVermelho, 1.0, 0 # Mistura as duas imagens\n",
        ")\n",
        "\n",
        "cv2.imshow(\"Imagem Misturada\", imagemMisturada)\n",
        "\n",
        "cv2.waitKey(0)\n",
        "cv2.destroyAllWindows()"
      ]
    },
    {
      "cell_type": "markdown",
      "metadata": {
        "id": "zPEjmk6PQSTv"
      },
      "source": [
        "#### Multiplicacao\n",
        "\n",
        "realiza um produto escalar estre as posicoes equivalentes na matriz\n",
        "\n",
        "##### Divisao\n",
        "\n",
        "Util para ajuste de contraste e para discriminar uma imagem da outra, se as imagens forem identicas o valor resultando que representa cada pixel deve ser 1\n",
        "\n",
        "Essa funcao é **relativamente** pesada, entao nao compensa muito utiliza-la em relacao a subtraçao\n",
        "\n",
        "\n",
        "(ambas as funçoes nao sao muito utilizadas)"
      ]
    },
    {
      "cell_type": "markdown",
      "metadata": {
        "id": "wkbfvv-mQSTw"
      },
      "source": [
        "\n",
        "\n",
        "### Ruidos\n",
        "\n",
        "Ruidos sao resultados de operacoes realizadas com a imagem ou problemas de captura. Imagens com ruidos sao um impecilho para o tratamento dos dados\n",
        "\n",
        "os ruidos podem vir de\n",
        "\n",
        "* Capturas\n",
        "* Amostragem (representacao digital nao correponde a verdadeira imagem analogica)\n",
        "* Processamento\n",
        "* Codificacao de imagem (geralmente quando compactam uma imagem)\n",
        "* Oclusao de cena (objeto desejado interrompido por outro na frente)\n",
        "* Ruido sal e pimenta (ruido causado pela adicao de pixeis aleatorios pretos ou brancos na imagem, intensos ou fracos)\n",
        "* Ruido Gaussiano\n",
        "* Imagens binarias (geralmente quando passam pelo processo de binarizaçao, gera ruidos)"
      ]
    },
    {
      "cell_type": "markdown",
      "source": [
        "# Filtros"
      ],
      "metadata": {
        "id": "wDQ6eEJ7QpdM"
      }
    },
    {
      "cell_type": "markdown",
      "source": [
        "O objetivo desse capitulo é a aplicaçao de filtros\n",
        "\n",
        "* Basicamente os filtros que veremos sao chamados de filtros espaciais, que sao matrizes que percorrem toda a imagem alterando os valores dos pixels, chamaremos essas matrizes de máscaras ou nucleos\n",
        "\n",
        "* o processedimento de passar a mascara sobre a imagem é chamado de **convoluçao**\n",
        "\n",
        "* Ao utilizarmos a convoluçao aplicamos a mascara em um pixel alvo, os pixel ao redor sao chamados de vizhança, assim, em cada iteraçao da convoluçao a mascara sobrepoe o pixel alvo\n",
        "\n",
        "filtros podem ser **lineares ou nao lineares**\n",
        "\n",
        "* Os lineares sao mais comuns, eles usam mascaras que realizam somas ponderadas das intensidades dos pixels ao longo da imagem, suavizando e realçando detalhes e minimizam efeitos de ruido, sem alterar o nivel medio de cinza na imagem\n",
        "\n",
        "* Os nao lineares realizam somas nao ponderadas. podendo assim alterar o nivel medio de cinza na imagem, destacando bordas, linhas e manchas\n",
        "\n",
        "(detalhe que os filtros sao aplicados na escala de cinza da imagem)\n",
        "\n",
        "\n",
        "Filtros tambem podem ser **passa-baixas ou passa-altas** que refere a frequencia que será filtrada\n",
        "\n",
        "* Um filtro passa-baixas atenua as altas frequencias, suavizando a imagem atuenuando as regioes que representam bordas ou contornos.\n",
        "\n",
        "* Passa-altas atenua as baixas frequencias, representando as regioes de borda ou contornos"
      ],
      "metadata": {
        "id": "alnxpz4FQ7k4"
      }
    },
    {
      "cell_type": "markdown",
      "source": [
        "# Filtro Média\n",
        "\n",
        "* linear\n",
        "* passa-baixas\n",
        "(ou seja, para suavizar imagem)\n",
        "\n",
        "ele substitui cada pixel, pelo valor médio de sua vizinhança, quanto maior a ordem da matriz que representa a máscara, maior será o numero de pixels vizinhos considerados, logo mais intenso ficará o efeito\n",
        "\n",
        "\n",
        "no opencv temos a funçao, Blur, que serve para aplicaçao desse filtro"
      ],
      "metadata": {
        "id": "DRgXDeJqRXIk"
      }
    },
    {
      "cell_type": "code",
      "source": [
        "imagemTratada = cv2.blur(moedasImg, (5, 5))\n",
        "\n",
        "cv2.imshow('Imagem Original', moedasImg)\n",
        "cv2.imshow('Imagem Tratada', imagemTratada)\n",
        "\n",
        "cv2.waitKey(0)\n",
        "cv2.destroyAllWindows()"
      ],
      "metadata": {
        "id": "AwTk_71PRZna"
      },
      "execution_count": null,
      "outputs": []
    },
    {
      "cell_type": "markdown",
      "source": [
        "# Filtro Gaussiano\n",
        "\n",
        "* Filtro linear\n",
        "* Passa-baixas\n",
        "* opencv: GaussianBlur\n",
        "* é recomendada que seja uma matriz quadrada de numeros impares de linha e coluna\n",
        "* Aplica-se uma fórmula, de gaussiana para cada elemento da matriz de convoluçao"
      ],
      "metadata": {
        "id": "OKosyexTRbm1"
      }
    },
    {
      "cell_type": "code",
      "source": [
        "imagemTratada = cv2.GaussianBlur(moedasImg, (5, 5), 3)\n",
        "# imagem a ser tratada,\n",
        "# tamanho da matriz de convolução,\n",
        "# intensidade do desfoque (desvio padrão)\n",
        "\n",
        "cv2.imshow('Imagem Original', moedasImg)\n",
        "cv2.imshow('Imagem Tratada', imagemTratada)\n",
        "\n",
        "cv2.waitKey(0)\n",
        "cv2.destroyAllWindows()"
      ],
      "metadata": {
        "id": "UjOCKqJZRdaC"
      },
      "execution_count": null,
      "outputs": []
    },
    {
      "cell_type": "markdown",
      "source": [
        "# Filtro mediana\n",
        "* nao linear\n",
        "* ótimo para ruidos sal-pimenta pois preserva contornos ou bordas (alta-frequencia), nao tem como quantificar enquanto frquencia e é chamado de Edge-preserving smoothing, ou seja, tecnicas de tatamento de imagem capaz de suaviar preservando bordas ou cornos\n",
        "* Aqui, na convoluçao, pega-se todos os valores daquela matriz, e seleciana para o pixel-alvo o valor da mediana, isso retira os problemas de sal e pimenta"
      ],
      "metadata": {
        "id": "by-aSsUzRgGk"
      }
    },
    {
      "cell_type": "code",
      "source": [
        "imagemTratada = cv2.medianBlur(salPimentaImg, 5)\n",
        "\n",
        "cv2.imshow('Imagem Original', salPimentaImg)\n",
        "cv2.imshow('Imagem Tratada', imagemTratada)\n",
        "\n",
        "cv2.waitKey(0)\n",
        "cv2.destroyAllWindows()"
      ],
      "metadata": {
        "id": "hiienN1sRiKk"
      },
      "execution_count": null,
      "outputs": []
    },
    {
      "cell_type": "markdown",
      "source": [
        "# Filtro bilateral\n",
        "* preserva bem os detalhes suavizando a imagem\n",
        "* Preserva bastante as bordas\n",
        "* Possui dois elementos principais, sigma space e sigma color, o sigma space diz o quanto a proximidade influenciara no alvo, ou seja, se os pixeis mais longes influenciarao mais ou menos, o sigma color significa que as cores proximas a aquela determinada cor influenciará a aplicaçao do filtro"
      ],
      "metadata": {
        "id": "FXMDGIm3Rjvr"
      }
    },
    {
      "cell_type": "code",
      "source": [
        "imagemTratada = cv2.bilateralFilter(moedasImg, 9, 75, 75)\n",
        "# imagem a ser tratada,\n",
        "# tamanho da matriz de convolução,\n",
        "# intensidade do filtro (sigmaSpace),\n",
        "# intensidade do filtro (sigmaColor)\n",
        "\n",
        "cv2.imshow('Imagem Original', moedasImg)\n",
        "cv2.imshow('Imagem Tratada', imagemTratada)\n",
        "\n",
        "cv2.waitKey(0)\n",
        "cv2.destroyAllWindows()\n"
      ],
      "metadata": {
        "id": "iGBJ8A1ZRk77"
      },
      "execution_count": null,
      "outputs": []
    },
    {
      "cell_type": "markdown",
      "source": [
        "# Operador de Sobel\n",
        "* realça contornos (linhas horizontais e verticais mais escuras que o fundo)\n",
        "* nao linear"
      ],
      "metadata": {
        "id": "DhG5hhmyRwNZ"
      }
    },
    {
      "cell_type": "code",
      "source": [
        "sobelX = cv2.Sobel(estacionamentoImg, cv2.CV_8U, 1, 0, ksize=3)\n",
        "# imagem a ser exibida,\n",
        "# como a imagem sera tratada, 8 bits sem sinal\n",
        "# 1 para derivada em x, 0 para y\n",
        "# tamanho da matriz de convoluçao\n",
        "sobelY = cv2.Sobel(estacionamentoImg, cv2.CV_8U, 0, 1, ksize=3)\n",
        "\n",
        "cv2.imshow('Original', estacionamentoImg)\n",
        "cv2.imshow('Sobel X', sobelX)\n",
        "cv2.imshow('Sobel Y', sobelY)\n",
        "\n",
        "cv2.waitKey(0)\n",
        "cv2.destroyAllWindows()"
      ],
      "metadata": {
        "id": "xd1DlaYyRxr-"
      },
      "execution_count": null,
      "outputs": []
    },
    {
      "cell_type": "markdown",
      "source": [
        "# Operador laplaciano\n",
        "\n",
        "* Popular\n",
        "* Usado para realçar bordas (tambem é um filtro espacial) ele percorre a imagem alkterando o pixel-alvo pela média ponderada dos pixels vizinhos, e depois eleva ao quadrado o valor obtido\n",
        "* Laplaciano tende a produzir bordas mais finas, porem pode ser sensivel a ruidos"
      ],
      "metadata": {
        "id": "oUTXKxEfR2Tq"
      }
    },
    {
      "cell_type": "code",
      "source": [
        "imagemTratada = cv2.Laplacian(estacionamentoImg, cv2.CV_8U)\n",
        "\n",
        "cv2.imshow('Original', estacionamentoImg)\n",
        "cv2.imshow('Laplacian', imagemTratada)\n",
        "\n",
        "cv2.waitKey(0)\n",
        "cv2.destroyAllWindows()"
      ],
      "metadata": {
        "id": "uYubnK2XQqxB"
      },
      "execution_count": null,
      "outputs": []
    },
    {
      "cell_type": "markdown",
      "source": [
        "porem geralmente o filtro laplaciano é muito sensivel a ruido, para isso, geralmente passamos um filtro de passa-baixas antes para reduzir isso, geralmente um filtro gaussiano\n",
        "\n",
        "(na opencv nao existe o filtro laplaciano de gaussiano que reduzem a conta), porem podemos aplicar o gaussiano e depois o laplaciano"
      ],
      "metadata": {
        "id": "SyjFZV4cR5sl"
      }
    },
    {
      "cell_type": "markdown",
      "source": [
        "# aguçamento de bordas\n",
        "\n",
        "\n",
        "voce pode aguçar uma imagem por meio de uma subtraçao da imagem original com o laplaciano dessa mesma imagem, realçando detalhes finos da imagem, porem pode gerar pixels com valores negativos, porem o subtract da opencv trata esse problema"
      ],
      "metadata": {
        "id": "kj-LowQCR7wd"
      }
    },
    {
      "cell_type": "code",
      "source": [
        "imgFiltrada = cv2.Laplacian(luaImg, cv2.CV_8U)\n",
        "imgRealcada = cv2.subtract(luaImg, imgFiltrada)\n",
        "\n",
        "cv2.imshow('Original', luaImg)\n",
        "cv2.imshow('filtrada', imgFiltrada)\n",
        "cv2.imshow('Realcada', imgRealcada)\n",
        "\n",
        "cv2.waitKey(0)\n",
        "cv2.destroyAllWindows()"
      ],
      "metadata": {
        "id": "D32UYKPuR_rr"
      },
      "execution_count": null,
      "outputs": []
    },
    {
      "cell_type": "markdown",
      "source": [
        "# Filtro de mascara de desaguçamento\n",
        "\n",
        "Subtrai da imagem original por uma versao suavizada dela msm, a imagem resultante desse procedimento contem as caracteristicas de contornos da imagem original, ou seja, as informaçoes de alta frequencia\n",
        "\n",
        "imgDetalhes = imgOriginal - imgSuavizada\n",
        "\n",
        "imgRealçada = imgOriginal + imgDetalhes"
      ],
      "metadata": {
        "id": "BbB3cMj-SCUw"
      }
    },
    {
      "cell_type": "code",
      "source": [
        "imgSuavizada = cv2.GaussianBlur(radiografiaImg, (13, 13), 0)\n",
        "imgDetalhes = 3 * cv2.subtract(radiografiaImg, imgSuavizada)\n",
        "imgRealcada = cv2.add(radiografiaImg, imgDetalhes)\n",
        "\n",
        "cv2.imshow('Original', radiografiaImg)\n",
        "cv2.imshow('Suavizada', imgSuavizada)\n",
        "cv2.imshow('Bordas', imgDetalhes)\n",
        "cv2.imshow('Realcada', imgRealcada)\n",
        "\n",
        "cv2.waitKey(0)\n",
        "cv2.destroyAllWindows()\n",
        "\n",
        "# multiplicar a imagem por 3 para realçar as bordas"
      ],
      "metadata": {
        "id": "2o14LEL9SDSg"
      },
      "execution_count": null,
      "outputs": []
    },
    {
      "cell_type": "markdown",
      "source": [
        "# Detector de bordas de Canny\n",
        "\n",
        "* Um dos metodos mais eficientes para detectar borda que possui 3 caracteristicas principais\n",
        "  * o algoritmo deve ser capaz de identificar todas as bordas possiveis\n",
        "  * Todas as bordas detectadas devem estar proximas das bordas originais da imagem\n",
        "  * Bordas falsas nao podem ser criadas, ou seja, cada borda deve ser definida um aunica vez\n",
        "\n",
        "esse algoritmo assim usa o filtro gaussiano e o operador de Sobel\n"
      ],
      "metadata": {
        "id": "4QF_jn6sSGeQ"
      }
    },
    {
      "cell_type": "code",
      "source": [
        "imagemTratada = cv2.Canny(estacionamentoImg, 100, 200)\n",
        "# imagem a ser tratada,\n",
        "# limiar minimo e maximo\n",
        "\n",
        "cv2.imshow('Original', estacionamentoImg)\n",
        "cv2.imshow('Canny', imagemTratada)\n",
        "\n",
        "cv2.waitKey(0)\n",
        "cv2.destroyAllWindows()"
      ],
      "metadata": {
        "id": "cz1Kh4XvSLCg"
      },
      "execution_count": null,
      "outputs": []
    }
  ],
  "metadata": {
    "kernelspec": {
      "display_name": "Python 3",
      "language": "python",
      "name": "python3"
    },
    "language_info": {
      "codemirror_mode": {
        "name": "ipython",
        "version": 3
      },
      "file_extension": ".py",
      "mimetype": "text/x-python",
      "name": "python",
      "nbconvert_exporter": "python",
      "pygments_lexer": "ipython3",
      "version": "3.10.12"
    },
    "colab": {
      "provenance": [],
      "toc_visible": true
    }
  },
  "nbformat": 4,
  "nbformat_minor": 0
}